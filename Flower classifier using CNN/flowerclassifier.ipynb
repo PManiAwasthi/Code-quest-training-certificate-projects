{
  "nbformat": 4,
  "nbformat_minor": 0,
  "metadata": {
    "colab": {
      "name": "flowerclassifier.ipynb",
      "provenance": [],
      "collapsed_sections": []
    },
    "kernelspec": {
      "name": "python3",
      "display_name": "Python 3"
    },
    "accelerator": "GPU"
  },
  "cells": [
    {
      "cell_type": "code",
      "metadata": {
        "id": "BrfAuYSCemM-"
      },
      "source": [
        "%tensorflow_version 2.x\n",
        "import tensorflow as tf\n",
        "import keras\n",
        "from keras.models import Sequential\n",
        "from keras.layers import Conv2D,MaxPool2D,Flatten,Dense,BatchNormalization\n",
        "import sklearn\n",
        "import numpy as np\n",
        "import pandas as pd"
      ],
      "execution_count": null,
      "outputs": []
    },
    {
      "cell_type": "code",
      "metadata": {
        "id": "R-FoWcyzfVed"
      },
      "source": [
        "from sklearn.model_selection import train_test_split\n",
        "from sklearn.preprocessing import LabelEncoder\n",
        "from keras.utils import to_categorical\n",
        "import os\n",
        "from tqdm import tqdm\n",
        "import cv2"
      ],
      "execution_count": null,
      "outputs": []
    },
    {
      "cell_type": "code",
      "metadata": {
        "id": "twLXbnEUf6U2"
      },
      "source": [
        "from google.colab import drive\n",
        "drive.mount('/content/drive')"
      ],
      "execution_count": null,
      "outputs": []
    },
    {
      "cell_type": "code",
      "metadata": {
        "id": "h7eiSzj5gIYn"
      },
      "source": [
        "import zipfile\n",
        "with zipfile.ZipFile('/content/drive/My Drive/Colab Notebooks/project3.zip','r') as z:\n",
        "  z.extractall()"
      ],
      "execution_count": null,
      "outputs": []
    },
    {
      "cell_type": "code",
      "metadata": {
        "id": "Fmik-V_vg4vQ",
        "outputId": "69466d2c-82d7-4e55-b3b4-4f34aca759e4",
        "colab": {
          "base_uri": "https://localhost:8080/",
          "height": 35
        }
      },
      "source": [
        "ls"
      ],
      "execution_count": null,
      "outputs": [
        {
          "output_type": "stream",
          "text": [
            "\u001b[0m\u001b[01;34mdrive\u001b[0m/  \u001b[01;34mflowers\u001b[0m/  \u001b[01;34msample_data\u001b[0m/\n"
          ],
          "name": "stdout"
        }
      ]
    },
    {
      "cell_type": "code",
      "metadata": {
        "id": "4m0ZCtfhg7C4"
      },
      "source": [
        "flower_daisy_dir = './flowers/flowers/daisy'\n",
        "flower_rose_dir = './flowers/flowers/rose'\n",
        "flower_sunflower_dir = './flowers/flowers/sunflower'\n",
        "flower_tulip_dir = './flowers/flowers/tulip'"
      ],
      "execution_count": null,
      "outputs": []
    },
    {
      "cell_type": "code",
      "metadata": {
        "id": "TqKhOJllhb01"
      },
      "source": [
        "def give_label(img,flower_label):\n",
        "  return flower_label"
      ],
      "execution_count": null,
      "outputs": []
    },
    {
      "cell_type": "code",
      "metadata": {
        "id": "nCwx3IeohjKW"
      },
      "source": [
        "x=[]\n",
        "z=[]\n",
        "def make_train_data(flower_label,flower_dir):\n",
        "  for img in tqdm(os.listdir(flower_dir)):\n",
        "    label=give_label(img,flower_label)\n",
        "    path=os.path.join(flower_dir,img)\n",
        "    img=cv2.imread(path,cv2.IMREAD_COLOR)\n",
        "    img=cv2.resize(img,(150,150))\n",
        "    x.append(np.array(img))\n",
        "    z.append(str(label))"
      ],
      "execution_count": null,
      "outputs": []
    },
    {
      "cell_type": "code",
      "metadata": {
        "id": "WbOssAoAicsc",
        "outputId": "29f3dd25-4206-4764-d11f-30717433c797",
        "colab": {
          "base_uri": "https://localhost:8080/",
          "height": 35
        }
      },
      "source": [
        "make_train_data('tulip',flower_tulip_dir)"
      ],
      "execution_count": null,
      "outputs": [
        {
          "output_type": "stream",
          "text": [
            "100%|██████████| 984/984 [00:02<00:00, 350.16it/s]\n"
          ],
          "name": "stderr"
        }
      ]
    },
    {
      "cell_type": "code",
      "metadata": {
        "id": "IZk0GWUskMIZ",
        "outputId": "a824e479-51cc-4100-b9e0-23f8bd2a9216",
        "colab": {
          "base_uri": "https://localhost:8080/",
          "height": 35
        }
      },
      "source": [
        "make_train_data('daisy',flower_daisy_dir)"
      ],
      "execution_count": null,
      "outputs": [
        {
          "output_type": "stream",
          "text": [
            "100%|██████████| 769/769 [00:01<00:00, 403.49it/s]\n"
          ],
          "name": "stderr"
        }
      ]
    },
    {
      "cell_type": "code",
      "metadata": {
        "id": "y-f81yQSkToN",
        "outputId": "7f04a70f-e852-462b-ee86-15a77f64ff3f",
        "colab": {
          "base_uri": "https://localhost:8080/",
          "height": 35
        }
      },
      "source": [
        "make_train_data('sunflower',flower_sunflower_dir)"
      ],
      "execution_count": null,
      "outputs": [
        {
          "output_type": "stream",
          "text": [
            "100%|██████████| 734/734 [00:02<00:00, 327.83it/s]\n"
          ],
          "name": "stderr"
        }
      ]
    },
    {
      "cell_type": "code",
      "metadata": {
        "id": "kix9em5okZj9",
        "outputId": "1b801b1c-e02f-49fd-987b-e2c9e171cd6a",
        "colab": {
          "base_uri": "https://localhost:8080/",
          "height": 35
        }
      },
      "source": [
        "make_train_data('rose',flower_rose_dir)"
      ],
      "execution_count": null,
      "outputs": [
        {
          "output_type": "stream",
          "text": [
            "100%|██████████| 784/784 [00:01<00:00, 397.72it/s]\n"
          ],
          "name": "stderr"
        }
      ]
    },
    {
      "cell_type": "code",
      "metadata": {
        "id": "Y6eNDsA5kdkZ"
      },
      "source": [
        "le=LabelEncoder()\n",
        "y=le.fit_transform(z)\n",
        "y=to_categorical(y,4)\n",
        "x=np.array(x)\n",
        "x=x/255"
      ],
      "execution_count": null,
      "outputs": []
    },
    {
      "cell_type": "code",
      "metadata": {
        "id": "CPUmLPQLlahR"
      },
      "source": [
        "train,test,train_label,test_label= train_test_split(x,y,test_size=0.25,random_state=42)"
      ],
      "execution_count": null,
      "outputs": []
    },
    {
      "cell_type": "code",
      "metadata": {
        "id": "bzhfxuFgl2ov"
      },
      "source": [
        ""
      ],
      "execution_count": null,
      "outputs": []
    },
    {
      "cell_type": "code",
      "metadata": {
        "id": "KIOJ3MiahdPq"
      },
      "source": [
        "model = Sequential([\n",
        "                    Conv2D(32,(3,3),activation='relu',padding='same',strides=1),\n",
        "                    BatchNormalization(),\n",
        "                    Conv2D(64,(3,3),activation='relu',padding='same',strides=1),\n",
        "                    MaxPool2D((2,2),padding='same',strides=2),\n",
        "                    Conv2D(64,(2,2),activation='relu',padding='same',strides=1),\n",
        "                    Conv2D(64,(2,2),activation='relu',padding='same',strides=1),\n",
        "                    BatchNormalization(),\n",
        "                    MaxPool2D((2,2),padding='same',strides=2),\n",
        "                    Conv2D(96,(2,2),activation='relu',padding='same',strides=1),\n",
        "                    MaxPool2D((2,2),padding='same',strides=2),\n",
        "                    Flatten(),\n",
        "                    Dense(512,activation='relu'),\n",
        "                    Dense(4,activation='softmax'),\n",
        "])"
      ],
      "execution_count": null,
      "outputs": []
    },
    {
      "cell_type": "code",
      "metadata": {
        "id": "zrM990UqkN2l"
      },
      "source": [
        "model.compile(optimizer='adam' , loss = 'categorical_crossentropy' , metrics = ['accuracy'])\n"
      ],
      "execution_count": null,
      "outputs": []
    },
    {
      "cell_type": "code",
      "metadata": {
        "id": "EkrJLVzik0yv",
        "outputId": "b309d4ca-f7b4-4023-9293-9f4e550429dc",
        "colab": {
          "base_uri": "https://localhost:8080/",
          "height": 1000
        }
      },
      "source": [
        "model.fit(train,train_label,validation_data=(test,test_label),epochs=50,batch_size=100)"
      ],
      "execution_count": null,
      "outputs": [
        {
          "output_type": "stream",
          "text": [
            "Train on 2453 samples, validate on 818 samples\n",
            "Epoch 1/50\n",
            "2453/2453 [==============================] - 28s 11ms/step - loss: 14.9465 - accuracy: 0.3685 - val_loss: 1.3569 - val_accuracy: 0.4083\n",
            "Epoch 2/50\n",
            "2453/2453 [==============================] - 18s 7ms/step - loss: 1.1654 - accuracy: 0.5002 - val_loss: 1.3349 - val_accuracy: 0.2408\n",
            "Epoch 3/50\n",
            "2453/2453 [==============================] - 18s 7ms/step - loss: 0.9203 - accuracy: 0.5980 - val_loss: 1.2543 - val_accuracy: 0.3790\n",
            "Epoch 4/50\n",
            "2453/2453 [==============================] - 18s 7ms/step - loss: 0.8331 - accuracy: 0.6339 - val_loss: 1.2171 - val_accuracy: 0.3643\n",
            "Epoch 5/50\n",
            "2453/2453 [==============================] - 18s 7ms/step - loss: 0.7446 - accuracy: 0.6837 - val_loss: 1.2196 - val_accuracy: 0.3729\n",
            "Epoch 6/50\n",
            "2453/2453 [==============================] - 18s 7ms/step - loss: 0.6824 - accuracy: 0.7175 - val_loss: 1.1866 - val_accuracy: 0.4156\n",
            "Epoch 7/50\n",
            "2453/2453 [==============================] - 18s 7ms/step - loss: 0.6267 - accuracy: 0.7444 - val_loss: 1.1559 - val_accuracy: 0.4817\n",
            "Epoch 8/50\n",
            "2453/2453 [==============================] - 18s 7ms/step - loss: 0.5821 - accuracy: 0.7680 - val_loss: 1.0925 - val_accuracy: 0.5403\n",
            "Epoch 9/50\n",
            "2453/2453 [==============================] - 18s 7ms/step - loss: 0.5345 - accuracy: 0.7921 - val_loss: 1.2255 - val_accuracy: 0.4083\n",
            "Epoch 10/50\n",
            "2453/2453 [==============================] - 18s 7ms/step - loss: 0.4595 - accuracy: 0.8300 - val_loss: 1.1985 - val_accuracy: 0.4438\n",
            "Epoch 11/50\n",
            "2453/2453 [==============================] - 18s 7ms/step - loss: 0.3972 - accuracy: 0.8581 - val_loss: 1.3819 - val_accuracy: 0.3667\n",
            "Epoch 12/50\n",
            "2453/2453 [==============================] - 18s 7ms/step - loss: 0.3639 - accuracy: 0.8651 - val_loss: 1.3716 - val_accuracy: 0.3949\n",
            "Epoch 13/50\n",
            "2453/2453 [==============================] - 18s 7ms/step - loss: 0.3184 - accuracy: 0.8969 - val_loss: 1.3559 - val_accuracy: 0.4401\n",
            "Epoch 14/50\n",
            "2453/2453 [==============================] - 18s 7ms/step - loss: 0.2494 - accuracy: 0.9254 - val_loss: 1.1933 - val_accuracy: 0.4951\n",
            "Epoch 15/50\n",
            "2453/2453 [==============================] - 18s 7ms/step - loss: 0.1864 - accuracy: 0.9572 - val_loss: 1.6412 - val_accuracy: 0.4413\n",
            "Epoch 16/50\n",
            "2453/2453 [==============================] - 18s 7ms/step - loss: 0.1825 - accuracy: 0.9425 - val_loss: 1.1533 - val_accuracy: 0.5367\n",
            "Epoch 17/50\n",
            "2453/2453 [==============================] - 18s 7ms/step - loss: 0.1134 - accuracy: 0.9821 - val_loss: 1.2726 - val_accuracy: 0.5183\n",
            "Epoch 18/50\n",
            "2453/2453 [==============================] - 18s 7ms/step - loss: 0.0889 - accuracy: 0.9870 - val_loss: 1.2228 - val_accuracy: 0.5550\n",
            "Epoch 19/50\n",
            "2453/2453 [==============================] - 18s 7ms/step - loss: 0.0640 - accuracy: 0.9918 - val_loss: 1.0172 - val_accuracy: 0.6161\n",
            "Epoch 20/50\n",
            "2453/2453 [==============================] - 18s 7ms/step - loss: 0.0473 - accuracy: 0.9955 - val_loss: 1.1965 - val_accuracy: 0.5856\n",
            "Epoch 21/50\n",
            "2453/2453 [==============================] - 18s 7ms/step - loss: 0.0409 - accuracy: 0.9967 - val_loss: 1.0788 - val_accuracy: 0.6247\n",
            "Epoch 22/50\n",
            "2453/2453 [==============================] - 18s 7ms/step - loss: 0.0358 - accuracy: 0.9980 - val_loss: 1.1900 - val_accuracy: 0.6222\n",
            "Epoch 23/50\n",
            "2453/2453 [==============================] - 18s 7ms/step - loss: 0.0271 - accuracy: 0.9984 - val_loss: 1.1030 - val_accuracy: 0.6504\n",
            "Epoch 24/50\n",
            "2453/2453 [==============================] - 18s 7ms/step - loss: 0.0203 - accuracy: 0.9976 - val_loss: 1.0109 - val_accuracy: 0.6711\n",
            "Epoch 25/50\n",
            "2453/2453 [==============================] - 18s 7ms/step - loss: 0.0161 - accuracy: 0.9976 - val_loss: 1.0622 - val_accuracy: 0.6785\n",
            "Epoch 26/50\n",
            "2453/2453 [==============================] - 18s 7ms/step - loss: 0.0154 - accuracy: 0.9984 - val_loss: 1.0565 - val_accuracy: 0.6858\n",
            "Epoch 27/50\n",
            "2453/2453 [==============================] - 18s 7ms/step - loss: 0.0130 - accuracy: 0.9984 - val_loss: 1.1468 - val_accuracy: 0.6601\n",
            "Epoch 28/50\n",
            "2453/2453 [==============================] - 18s 7ms/step - loss: 0.0134 - accuracy: 0.9980 - val_loss: 1.1328 - val_accuracy: 0.6822\n",
            "Epoch 29/50\n",
            "2453/2453 [==============================] - 18s 7ms/step - loss: 0.0116 - accuracy: 0.9984 - val_loss: 1.2206 - val_accuracy: 0.6736\n",
            "Epoch 30/50\n",
            "2453/2453 [==============================] - 18s 7ms/step - loss: 0.0123 - accuracy: 0.9984 - val_loss: 1.1644 - val_accuracy: 0.6858\n",
            "Epoch 31/50\n",
            "2453/2453 [==============================] - 18s 7ms/step - loss: 0.0115 - accuracy: 0.9984 - val_loss: 1.1765 - val_accuracy: 0.6944\n",
            "Epoch 32/50\n",
            "2453/2453 [==============================] - 18s 7ms/step - loss: 0.0085 - accuracy: 0.9988 - val_loss: 1.2179 - val_accuracy: 0.6919\n",
            "Epoch 33/50\n",
            "2453/2453 [==============================] - 18s 7ms/step - loss: 0.0085 - accuracy: 0.9980 - val_loss: 1.2664 - val_accuracy: 0.6846\n",
            "Epoch 34/50\n",
            "2453/2453 [==============================] - 18s 7ms/step - loss: 0.0088 - accuracy: 0.9988 - val_loss: 1.2517 - val_accuracy: 0.6834\n",
            "Epoch 35/50\n",
            "2453/2453 [==============================] - 18s 7ms/step - loss: 0.0095 - accuracy: 0.9984 - val_loss: 1.2947 - val_accuracy: 0.6895\n",
            "Epoch 36/50\n",
            "2453/2453 [==============================] - 18s 7ms/step - loss: 0.0097 - accuracy: 0.9980 - val_loss: 1.2773 - val_accuracy: 0.6932\n",
            "Epoch 37/50\n",
            "2453/2453 [==============================] - 18s 7ms/step - loss: 0.0101 - accuracy: 0.9984 - val_loss: 1.3353 - val_accuracy: 0.7029\n",
            "Epoch 38/50\n",
            "2453/2453 [==============================] - 18s 7ms/step - loss: 0.0436 - accuracy: 0.9853 - val_loss: 1.5173 - val_accuracy: 0.6748\n",
            "Epoch 39/50\n",
            "2453/2453 [==============================] - 18s 7ms/step - loss: 0.0909 - accuracy: 0.9686 - val_loss: 2.2931 - val_accuracy: 0.5770\n",
            "Epoch 40/50\n",
            "2453/2453 [==============================] - 18s 7ms/step - loss: 0.0591 - accuracy: 0.9796 - val_loss: 1.6095 - val_accuracy: 0.6565\n",
            "Epoch 41/50\n",
            "2453/2453 [==============================] - 18s 7ms/step - loss: 0.0279 - accuracy: 0.9939 - val_loss: 1.5649 - val_accuracy: 0.6479\n",
            "Epoch 42/50\n",
            "2453/2453 [==============================] - 18s 7ms/step - loss: 0.0221 - accuracy: 0.9959 - val_loss: 1.4625 - val_accuracy: 0.6711\n",
            "Epoch 43/50\n",
            "2453/2453 [==============================] - 18s 7ms/step - loss: 0.0123 - accuracy: 0.9988 - val_loss: 1.4429 - val_accuracy: 0.6675\n",
            "Epoch 44/50\n",
            "2453/2453 [==============================] - 18s 7ms/step - loss: 0.0117 - accuracy: 0.9984 - val_loss: 1.5778 - val_accuracy: 0.6406\n",
            "Epoch 45/50\n",
            "2453/2453 [==============================] - 18s 7ms/step - loss: 0.0112 - accuracy: 0.9976 - val_loss: 1.7193 - val_accuracy: 0.6699\n",
            "Epoch 46/50\n",
            "2453/2453 [==============================] - 18s 7ms/step - loss: 0.0093 - accuracy: 0.9980 - val_loss: 1.4753 - val_accuracy: 0.6736\n",
            "Epoch 47/50\n",
            "2453/2453 [==============================] - 18s 7ms/step - loss: 0.0076 - accuracy: 0.9988 - val_loss: 1.4591 - val_accuracy: 0.6687\n",
            "Epoch 48/50\n",
            "2453/2453 [==============================] - 18s 7ms/step - loss: 0.0075 - accuracy: 0.9980 - val_loss: 1.5022 - val_accuracy: 0.6699\n",
            "Epoch 49/50\n",
            "2453/2453 [==============================] - 18s 7ms/step - loss: 0.0108 - accuracy: 0.9980 - val_loss: 1.4399 - val_accuracy: 0.6870\n",
            "Epoch 50/50\n",
            "2453/2453 [==============================] - 18s 7ms/step - loss: 0.0097 - accuracy: 0.9980 - val_loss: 1.4830 - val_accuracy: 0.6822\n"
          ],
          "name": "stdout"
        },
        {
          "output_type": "execute_result",
          "data": {
            "text/plain": [
              "<keras.callbacks.callbacks.History at 0x7f3910fe7668>"
            ]
          },
          "metadata": {
            "tags": []
          },
          "execution_count": 29
        }
      ]
    }
  ]
}